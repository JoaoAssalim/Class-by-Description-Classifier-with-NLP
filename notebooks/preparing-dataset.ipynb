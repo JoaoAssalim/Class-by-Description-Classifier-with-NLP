{
 "cells": [
  {
   "cell_type": "code",
   "execution_count": 149,
   "metadata": {},
   "outputs": [],
   "source": [
    "import pandas as pd"
   ]
  },
  {
   "cell_type": "code",
   "execution_count": 25,
   "metadata": {},
   "outputs": [],
   "source": [
    "df_pf = pd.read_csv('../data/Pfizer.csv', delimiter=\";\")\n",
    "df_it = pd.read_csv('../data/Itambé.csv', delimiter=\";\")\n",
    "df_cog = pd.read_excel(\"../data/relatorio-analitico-cognita-75071.xlsx\")"
   ]
  },
  {
   "cell_type": "code",
   "execution_count": 26,
   "metadata": {},
   "outputs": [],
   "source": [
    "df_it[\"Classe\"] = \"MACHINERY\""
   ]
  },
  {
   "cell_type": "code",
   "execution_count": 27,
   "metadata": {},
   "outputs": [],
   "source": [
    "df_cog = df_cog[[\"DESCRIÇÃO\"]]"
   ]
  },
  {
   "cell_type": "code",
   "execution_count": 28,
   "metadata": {},
   "outputs": [],
   "source": [
    "categoria_map_pf = {\n",
    "    'REAL ESTATE': ['LAND', 'IND-BLDG', 'BD-IMPR', 'DP LEASE', 'BD-SVSHV'],\n",
    "    'MACHINERY': ['M&E-SEC', 'OFF MACH', 'M&E-ELEC', 'LAB-ELEC', 'AVEQUIP', 'EQUIP-RD', 'PLT,JIGS', 'OFF F&F', 'EQIP-PLT'],\n",
    "    'SERVICES': ['DP-SW', 'AUTO T&T', 'INT-TECR', 'AUC', 'LHIMP', 'BC-NLAB', 'DPNONERP', 'BC-LAB', 'DP-PBX', 'BLDG', 'BLDGEQPT'],\n",
    "    'COMPUTING': ['DATAPROC', 'DP EQUIP'],\n",
    "    'FURNITURE': ['EQIP-MFG', 'OFF F&F']\n",
    "}"
   ]
  },
  {
   "cell_type": "code",
   "execution_count": 29,
   "metadata": {},
   "outputs": [],
   "source": [
    "def classificar_pf(classe):\n",
    "    for categoria, valores in categoria_map_pf.items():\n",
    "        if classe in valores:\n",
    "            return categoria\n",
    "    return 'OUTROS'\n",
    "\n",
    "df_pf['Classe'] = df_pf['Classe'].apply(classificar_pf)"
   ]
  },
  {
   "cell_type": "code",
   "execution_count": 100,
   "metadata": {},
   "outputs": [],
   "source": [
    "class_cog = []"
   ]
  },
  {
   "cell_type": "code",
   "execution_count": 101,
   "metadata": {},
   "outputs": [],
   "source": [
    "for i in range(df_cog.shape[0]):\n",
    "    classe = \"FURNITURE\" if \"QUADRO\" in df_cog.iloc[i, :][0] or \"CADEIRA\" in df_cog.iloc[i, :][0] or \"CARTEIRA\" in df_cog.iloc[i, :][0] or \"ARMARIO\" in df_cog.iloc[i, :][0] or \"RACK\" in df_cog.iloc[i, :][0] or \"MESA\" in df_cog.iloc[i, :][0] or \"CAIXOTE\" in df_cog.iloc[i, :][0] or\\\n",
    "    \"NINCHO\" in df_cog.iloc[i, :][0] or \"NICHO\" in df_cog.iloc[i, :][0] or \"ESTANTE\" in df_cog.iloc[i, :][0] else \"COMPUTING\" if \"AMPLIFICADOR\" in df_cog.iloc[i, :][0] or \"NOTEBOOK\" in df_cog.iloc[i, :][0] or \"TELA\" in df_cog.iloc[i, :][0] or \"PROJECAO\" in df_cog.iloc[i, :][0] or \"ROTEADOR\" in df_cog.iloc[i, :][0] or\\\n",
    "    \"WIRELLES\" in df_cog.iloc[i, :][0] or \"WIRELESS\" in df_cog.iloc[i, :][0] or \"PROJETOR\" in df_cog.iloc[i, :][0] or \"VIDEO\" in df_cog.iloc[i, :][0] or \"MICROFONE\" in df_cog.iloc[i, :][0] or \"MONITOR\" in df_cog.iloc[i, :][0] or \"SOM\" in df_cog.iloc[i, :][0] or \"SWITCH\" in df_cog.iloc[i, :][0] else \\\n",
    "    \"SERVICES\" if \"SISTEMA\" in df_cog.iloc[i, :][0] or \"SYSTEM\" in df_cog.iloc[i, :][0] else \"MACHINERY\"\n",
    "    \n",
    "    class_cog.append(classe)"
   ]
  },
  {
   "cell_type": "code",
   "execution_count": 102,
   "metadata": {},
   "outputs": [],
   "source": [
    "df_cog[\"Classe\"] = class_cog"
   ]
  },
  {
   "cell_type": "code",
   "execution_count": 103,
   "metadata": {},
   "outputs": [],
   "source": [
    "df_cog.to_excel(\"Tst.xlsx\", index=False)"
   ]
  },
  {
   "cell_type": "code",
   "execution_count": 106,
   "metadata": {},
   "outputs": [],
   "source": [
    "pf_desc = df_pf[\"Texto\"]\n",
    "pf_class = df_pf[\"Classe\"]"
   ]
  },
  {
   "cell_type": "code",
   "execution_count": 109,
   "metadata": {},
   "outputs": [],
   "source": [
    "it_desc = df_it[\"Descrição\"]\n",
    "it_class = df_it[\"Classe\"]"
   ]
  },
  {
   "cell_type": "code",
   "execution_count": 111,
   "metadata": {},
   "outputs": [],
   "source": [
    "cog_desc = df_cog[\"DESCRIÇÃO\"]\n",
    "cog_class = df_cog[\"Classe\"]"
   ]
  },
  {
   "cell_type": "code",
   "execution_count": 135,
   "metadata": {},
   "outputs": [],
   "source": [
    "all_desc = []\n",
    "all_class = []"
   ]
  },
  {
   "cell_type": "code",
   "execution_count": 145,
   "metadata": {},
   "outputs": [],
   "source": [
    "df = pd.DataFrame({\"Texto\": all_desc, \"Classe\": all_class})"
   ]
  },
  {
   "cell_type": "code",
   "execution_count": 148,
   "metadata": {},
   "outputs": [],
   "source": [
    "df.to_excel(\"DATA_TRAIN.xlsx\", index=False)"
   ]
  },
  {
   "cell_type": "code",
   "execution_count": null,
   "metadata": {},
   "outputs": [],
   "source": []
  },
  {
   "cell_type": "code",
   "execution_count": 153,
   "metadata": {},
   "outputs": [],
   "source": [
    "categoria_map = {\n",
    "    'REAL ESTATE': [\"EDIFICACOES\", \"TERRENOS\"],\n",
    "    'MACHINERY': [\"APARELHOS DE REFRIGERACAO\", \"ALARMES\", \"MAQUINAS\", \"OUTROS EQUIPAMENTOS\", \"CABINES DE SEGURANCA\", \"VEICULOS\"],\n",
    "    'SERVICES': [\"SOFTWARE - ADQUIRIDOS\", \"INSTALACOES\", \"SOFTWARE - ADQUIRIDOS ANTES DE 01/10/2013\", \"LICENCAS E DIREITOS AUTORAIS E DE USO\", \"BENFEITORIAS EM IMOVEIS DE TERCEIROS\", \"SOBRAS OU PERDAS DE EXERCICIOS ENCERRADOS\", \"OUTROS\", \"FUNDO DE RESERVA\",\n",
    "                 \"MARCAS E PATENTES\", \"FUNDO DE ESTABILIDADE FINANCEIRA\", \"LICENCAS E DIREITOS DE USO\"],\n",
    "    'COMPUTING': [\"EQUIPAMENTOS DE COMUNICACAO\", \"EQUIPAMENTO DE PROCESSAMENTO DE DADOS\", \"EQUIPAMENTOS DE VIGILANCIA E SEGURANCA\", \"ADQUIRIDOS ANTES DE 01/10/2013\"],\n",
    "    'FURNITURE': [\"MOBILIARIOS\", \"ACOES DO BANCOOB\"]\n",
    "}"
   ]
  },
  {
   "cell_type": "code",
   "execution_count": 151,
   "metadata": {},
   "outputs": [],
   "source": [
    "df = pd.read_excel(\"../data/Sicoob.xlsx\")"
   ]
  },
  {
   "cell_type": "code",
   "execution_count": 155,
   "metadata": {},
   "outputs": [],
   "source": [
    "def classificar(classe):\n",
    "    for categoria, valores in categoria_map.items():\n",
    "        if classe in valores:\n",
    "            return categoria\n",
    "    return 'OUTROS'\n",
    "\n",
    "df['DESCRIÇÃO DA CONTA'] = df['DESCRIÇÃO DA CONTA'].apply(classificar)"
   ]
  },
  {
   "cell_type": "code",
   "execution_count": 157,
   "metadata": {},
   "outputs": [],
   "source": [
    "df_train = pd.read_excel(\"../data/DATA_TRAIN.xlsx\")"
   ]
  },
  {
   "cell_type": "code",
   "execution_count": 171,
   "metadata": {},
   "outputs": [],
   "source": [
    "X = []"
   ]
  },
  {
   "cell_type": "code",
   "execution_count": 177,
   "metadata": {},
   "outputs": [],
   "source": [
    "y = []"
   ]
  },
  {
   "cell_type": "code",
   "execution_count": 179,
   "metadata": {},
   "outputs": [],
   "source": [
    "for i in range(df.shape[0]):\n",
    "    y.append(df.iloc[i, :][0])"
   ]
  },
  {
   "cell_type": "code",
   "execution_count": 180,
   "metadata": {},
   "outputs": [],
   "source": [
    "df_new = pd.DataFrame({\"Texto\": X, \"Classe\": y})"
   ]
  },
  {
   "cell_type": "code",
   "execution_count": 182,
   "metadata": {},
   "outputs": [],
   "source": [
    "df_new.to_excel(\"DATA_FULL_TRAIN.xlsx\", index=False)"
   ]
  },
  {
   "cell_type": "code",
   "execution_count": null,
   "metadata": {},
   "outputs": [],
   "source": []
  }
 ],
 "metadata": {
  "kernelspec": {
   "display_name": "Python 3",
   "language": "python",
   "name": "python3"
  },
  "language_info": {
   "codemirror_mode": {
    "name": "ipython",
    "version": 3
   },
   "file_extension": ".py",
   "mimetype": "text/x-python",
   "name": "python",
   "nbconvert_exporter": "python",
   "pygments_lexer": "ipython3",
   "version": "3.9.7"
  }
 },
 "nbformat": 4,
 "nbformat_minor": 2
}
